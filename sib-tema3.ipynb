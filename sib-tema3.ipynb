{
 "cells": [
  {
   "cell_type": "markdown",
   "id": "40542ae2",
   "metadata": {},
   "source": [
    "# Sistemas de Información Biomédicos\n",
    "### Máster NTI, Ginés García Mateos\n",
    "\n",
    "## Práctica 3. Segmentación y conteo de células en imágenes\n",
    "En esta práctica se trata de usar la librería OpenCV en Jupyter Notebook para segmentar imágenes de la arteria aorta. Se explicará paso a paso el procesamiento de las imágenes.\n"
   ]
  },
  {
   "cell_type": "markdown",
   "id": "0c75dc88",
   "metadata": {},
   "source": [
    "### Paso 1. Cargar las librerías necesarias."
   ]
  },
  {
   "cell_type": "code",
   "execution_count": 7,
   "id": "cc0d5d69",
   "metadata": {},
   "outputs": [],
   "source": [
    "import cv2\n",
    "import numpy as np"
   ]
  },
  {
   "cell_type": "markdown",
   "id": "b9cab97f",
   "metadata": {},
   "source": [
    "### Paso 2. Obtenemos el nombre de la imagen y la leemos de disco."
   ]
  },
  {
   "cell_type": "code",
   "execution_count": 23,
   "id": "729ba96b",
   "metadata": {},
   "outputs": [],
   "source": [
    "nombre = \"C:/celulas.jpg\"  # Debe ser un nombre de fichero existente\n",
    "imagen = cv2.imread(nombre)"
   ]
  },
  {
   "cell_type": "markdown",
   "id": "6282ec99",
   "metadata": {},
   "source": [
    "### Paso 3. Mostrar la imagen y separar los 3 canales de color."
   ]
  },
  {
   "cell_type": "code",
   "execution_count": 9,
   "id": "dcfb96dd",
   "metadata": {},
   "outputs": [],
   "source": [
    "cv2.imshow(\"Canales\", imagen)\n",
    "cv2.waitKey(0)\n",
    "canales = cv2.split(imagen)"
   ]
  },
  {
   "cell_type": "markdown",
   "id": "2aa3c54f",
   "metadata": {},
   "source": [
    "### Paso 4. Calcular la diferencia entre canales, multiplicada por 2.\n",
    "La multiplicación es para destacar las diferencias en la imagen."
   ]
  },
  {
   "cell_type": "code",
   "execution_count": 11,
   "id": "4d430b43",
   "metadata": {},
   "outputs": [],
   "source": [
    "dif2 = cv2.subtract(canales[2],canales[0])\n",
    "dif2 = dif2*2"
   ]
  },
  {
   "cell_type": "markdown",
   "id": "f488805f",
   "metadata": {},
   "source": [
    "### Paso 5. Aplicamos un suavizado gausiano."
   ]
  },
  {
   "cell_type": "code",
   "execution_count": 14,
   "id": "7ef87278",
   "metadata": {},
   "outputs": [],
   "source": [
    "suav = cv2.GaussianBlur(dif2, (21,21), 5)"
   ]
  },
  {
   "cell_type": "markdown",
   "id": "de7554d4",
   "metadata": {},
   "source": [
    "### Paso 6. Umbralizamos la imagen resultante con un umbral adecuado."
   ]
  },
  {
   "cell_type": "code",
   "execution_count": 15,
   "id": "6b41ab00",
   "metadata": {},
   "outputs": [],
   "source": [
    "thr,bin = cv2.threshold(suav, 40, 255, cv2.THRESH_BINARY_INV)"
   ]
  },
  {
   "cell_type": "markdown",
   "id": "2eac58c5",
   "metadata": {},
   "source": [
    "### Paso 7. Operación morfológica de erosión para separar los contornos."
   ]
  },
  {
   "cell_type": "code",
   "execution_count": 17,
   "id": "d33d7fcc",
   "metadata": {},
   "outputs": [],
   "source": [
    "kernel = np.ones((5, 5), np.uint8)\n",
    "eros = cv2.erode(bin, kernel)"
   ]
  },
  {
   "cell_type": "markdown",
   "id": "f9061c5a",
   "metadata": {},
   "source": [
    "### Paso 8. Buscamos los contornos."
   ]
  },
  {
   "cell_type": "code",
   "execution_count": 20,
   "id": "08aa5b2e",
   "metadata": {},
   "outputs": [],
   "source": [
    "cont, _= cv2.findContours(bin, cv2.RETR_EXTERNAL, cv2.CHAIN_APPROX_SIMPLE)"
   ]
  },
  {
   "cell_type": "markdown",
   "id": "da84f8cb",
   "metadata": {},
   "source": [
    "### Paso 9. Seleccionar y pintar los contornos circulares."
   ]
  },
  {
   "cell_type": "code",
   "execution_count": 21,
   "id": "ac751e82",
   "metadata": {},
   "outputs": [],
   "source": [
    "num = 0\n",
    "for c in cont:\n",
    "    area = cv2.contourArea(c)\n",
    "    if area>9 and area<4000:\n",
    "        imagen=cv2.drawContours(imagen, [c], 0, (0,0,255))\n",
    "        num=num+1"
   ]
  },
  {
   "cell_type": "markdown",
   "id": "312ccfa6",
   "metadata": {},
   "source": [
    "### Paso 10. Mostrar el resultado."
   ]
  },
  {
   "cell_type": "code",
   "execution_count": 22,
   "id": "27994294",
   "metadata": {},
   "outputs": [
    {
     "data": {
      "text/plain": [
       "13"
      ]
     },
     "execution_count": 22,
     "metadata": {},
     "output_type": "execute_result"
    }
   ],
   "source": [
    "cv2.imshow(\"Imagen\",imagen)\n",
    "cv2.waitKey()"
   ]
  }
 ],
 "metadata": {
  "kernelspec": {
   "display_name": "Python 3 (ipykernel)",
   "language": "python",
   "name": "python3"
  },
  "language_info": {
   "codemirror_mode": {
    "name": "ipython",
    "version": 3
   },
   "file_extension": ".py",
   "mimetype": "text/x-python",
   "name": "python",
   "nbconvert_exporter": "python",
   "pygments_lexer": "ipython3",
   "version": "3.9.12"
  }
 },
 "nbformat": 4,
 "nbformat_minor": 5
}
